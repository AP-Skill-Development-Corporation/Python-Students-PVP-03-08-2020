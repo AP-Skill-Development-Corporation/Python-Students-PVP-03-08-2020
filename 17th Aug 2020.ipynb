{
 "cells": [
  {
   "cell_type": "markdown",
   "metadata": {},
   "source": [
    "- Basic OOPS Concepts\n",
    "    - Object Oriented Programming\n",
    "    - class\n",
    "        - collection of variables and methods\n",
    "        - difference between function and method\n",
    "            - function - Collection of statements\n",
    "            - Method - Function define inside the class known as method\n",
    "        - syntax\n",
    "            - class class_name:\n",
    "            - Classname should start with capital letter\n",
    "    - object\n",
    "        - Blueprint of class\n",
    "        - Memory is allocate\n",
    "        - objectname = classname\n",
    "    - constructor\n",
    "    - Inheritance\n",
    "    - packages and modules using OOPS"
   ]
  },
  {
   "cell_type": "code",
   "execution_count": 1,
   "metadata": {},
   "outputs": [],
   "source": [
    "class Hi:\n",
    "    a = 10\n",
    "    b = 2\n",
    "    def display():\n",
    "        print(\"Hii Iam from display function..\")"
   ]
  },
  {
   "cell_type": "code",
   "execution_count": 5,
   "metadata": {},
   "outputs": [
    {
     "name": "stdout",
     "output_type": "stream",
     "text": [
      "10\n",
      "2\n",
      "Hii Iam from display function..\n",
      "None\n"
     ]
    }
   ],
   "source": [
    "print(Hi.a)\n",
    "print(Hi.b)\n",
    "print(Hi.display())"
   ]
  },
  {
   "cell_type": "code",
   "execution_count": 7,
   "metadata": {},
   "outputs": [
    {
     "name": "stdout",
     "output_type": "stream",
     "text": [
      "Hii Iam from display function..\n"
     ]
    }
   ],
   "source": [
    "obj = Hi\n",
    "obj.a\n",
    "obj.display()"
   ]
  },
  {
   "cell_type": "code",
   "execution_count": 8,
   "metadata": {},
   "outputs": [],
   "source": [
    "class Math:\n",
    "    def add(a,b):\n",
    "        return a + b\n",
    "    def mul(a,b):\n",
    "        return a * b"
   ]
  },
  {
   "cell_type": "code",
   "execution_count": 9,
   "metadata": {},
   "outputs": [
    {
     "data": {
      "text/plain": [
       "11"
      ]
     },
     "execution_count": 9,
     "metadata": {},
     "output_type": "execute_result"
    }
   ],
   "source": [
    "mt = Math\n",
    "mt.add(6,5)"
   ]
  },
  {
   "cell_type": "code",
   "execution_count": 10,
   "metadata": {},
   "outputs": [
    {
     "data": {
      "text/plain": [
       "100"
      ]
     },
     "execution_count": 10,
     "metadata": {},
     "output_type": "execute_result"
    }
   ],
   "source": [
    "mt.mul(10,10)"
   ]
  },
  {
   "cell_type": "markdown",
   "metadata": {},
   "source": [
    "- Constructor\n",
    "    - special kind of method in python\n",
    "    - syntax\n",
    "        - class classname:\n",
    "            def __init__(self): # self is default parameter\n",
    "                 statemnts\n",
    "            def __init__(self,a,b):\n",
    "                statements\n",
    "            def __init__(a,self,b): # first variable acts as default parameter\n",
    "                statements\n",
    "    - create object for class but doesn't use that object to call the function"
   ]
  },
  {
   "cell_type": "code",
   "execution_count": 12,
   "metadata": {},
   "outputs": [
    {
     "name": "stdout",
     "output_type": "stream",
     "text": [
      "Iam calling without using Object..\n"
     ]
    }
   ],
   "source": [
    "class Maths:\n",
    "    def __init__(self,name,number):\n",
    "        self.name = name\n",
    "        self.number = number\n",
    "        print(\"Iam calling without using Object..\")\n",
    "obj = Maths('python',123)"
   ]
  },
  {
   "cell_type": "code",
   "execution_count": 14,
   "metadata": {},
   "outputs": [
    {
     "name": "stdout",
     "output_type": "stream",
     "text": [
      "5\n",
      "10\n"
     ]
    },
    {
     "data": {
      "text/plain": [
       "15"
      ]
     },
     "execution_count": 14,
     "metadata": {},
     "output_type": "execute_result"
    }
   ],
   "source": [
    "class Calci:\n",
    "    def __init__(abc,val1,val2):\n",
    "        abc.val1 = val1\n",
    "        abc.val2 = val2\n",
    "    def show(abc):\n",
    "        print(abc.val1)\n",
    "        print(abc.val2)\n",
    "    def add(abc):\n",
    "        return abc.val1 + abc.val2\n",
    "ma = Calci(5,10)\n",
    "ma.show()\n",
    "ma.add()"
   ]
  },
  {
   "cell_type": "code",
   "execution_count": 16,
   "metadata": {},
   "outputs": [
    {
     "name": "stdout",
     "output_type": "stream",
     "text": [
      "5\n",
      "10\n"
     ]
    },
    {
     "data": {
      "text/plain": [
       "25"
      ]
     },
     "execution_count": 16,
     "metadata": {},
     "output_type": "execute_result"
    }
   ],
   "source": [
    "class Calci1:\n",
    "    def __init__(abc,val1,val2):\n",
    "        abc.val1 = val1\n",
    "        abc.val2 = val2\n",
    "    def show(abc):\n",
    "        print(abc.val1)\n",
    "        print(abc.val2)\n",
    "    def add(abc,val3):\n",
    "        return abc.val1 + abc.val2 + val3\n",
    "ma = Calci1(5,10)\n",
    "ma.show()\n",
    "ma.add(10)"
   ]
  },
  {
   "cell_type": "code",
   "execution_count": 17,
   "metadata": {},
   "outputs": [
    {
     "data": {
      "text/plain": [
       "('Ambika', 'APSSDC')"
      ]
     },
     "execution_count": 17,
     "metadata": {},
     "output_type": "execute_result"
    }
   ],
   "source": [
    "class Userinfo:\n",
    "    def __init__(self,name,org):\n",
    "        self.name = name\n",
    "        self.org = org\n",
    "    def show(self):\n",
    "        return (self.name,self.org)\n",
    "ui = Userinfo('Ambika','APSSDC')\n",
    "ui.show()"
   ]
  },
  {
   "cell_type": "code",
   "execution_count": 19,
   "metadata": {},
   "outputs": [
    {
     "name": "stdout",
     "output_type": "stream",
     "text": [
      "Trail..\n"
     ]
    }
   ],
   "source": [
    "class Con:\n",
    "    def __myinit__(self):\n",
    "        print(\"Trail..\")\n",
    "obj = Con()\n",
    "obj.__myinit__()"
   ]
  },
  {
   "cell_type": "markdown",
   "metadata": {},
   "source": [
    "- Inheritance\n",
    "    - trying to inherit somethingfrom parent class to child class\n",
    "    - syntax:\n",
    "        class childclass(parentclass):\n",
    "    - types of inheritance\n",
    "        - single level\n",
    "            - only one parent class and one child class\n",
    "        - multi level\n",
    "            - one or more parent class and oner or more child class\n",
    "        - multiple\n",
    "            - more than one parent class and one or single child class\n",
    "        - hybrid\n",
    "            - combination of above three inheritance\n",
    "            - multiple parent class and multiple child"
   ]
  },
  {
   "cell_type": "code",
   "execution_count": 22,
   "metadata": {},
   "outputs": [
    {
     "name": "stdout",
     "output_type": "stream",
     "text": [
      "20\n",
      "10\n",
      "Hii Iam from Class A\n",
      "None\n"
     ]
    }
   ],
   "source": [
    "# single level inheritance\n",
    "class ClassA:\n",
    "    a,b = 10,20\n",
    "    def classA():\n",
    "        print(\"Hii Iam from Class A\")\n",
    "class ClassB(ClassA):\n",
    "    d,g = 20,30\n",
    "    def classB():\n",
    "        print(\"Hii Iam from Class B \")\n",
    "obj = ClassB\n",
    "print(obj.d)\n",
    "print(obj.a)\n",
    "print(obj.classA())"
   ]
  },
  {
   "cell_type": "code",
   "execution_count": 23,
   "metadata": {},
   "outputs": [
    {
     "name": "stdout",
     "output_type": "stream",
     "text": [
      "Hii Iam from Class A\n",
      "Hii Iam from Class B\n",
      "Hii Iam from Class C\n"
     ]
    }
   ],
   "source": [
    "# multi level Inheritance\n",
    "class A:\n",
    "    def classA():\n",
    "        print(\"Hii Iam from Class A\")\n",
    "class B(A):\n",
    "    def classB():\n",
    "        print(\"Hii Iam from Class B\")\n",
    "class C(B):\n",
    "    def classC():\n",
    "        print(\"Hii Iam from Class C\")\n",
    "obj = C\n",
    "obj.classA()\n",
    "obj.classB()\n",
    "obj.classC()"
   ]
  },
  {
   "cell_type": "code",
   "execution_count": 24,
   "metadata": {},
   "outputs": [
    {
     "name": "stdout",
     "output_type": "stream",
     "text": [
      "Hii Iam from Class A\n",
      "Hii Iam from Class B\n",
      "Hii Iam from Class C\n"
     ]
    }
   ],
   "source": [
    "# Multiple Inheritance\n",
    "class A:\n",
    "    def classA():\n",
    "        print(\"Hii Iam from Class A\")\n",
    "class B:\n",
    "    def classB():\n",
    "        print(\"Hii Iam from Class B\")\n",
    "class C(A,B):\n",
    "    def classC():\n",
    "        print(\"Hii Iam from Class C\")\n",
    "obj = C\n",
    "obj.classA()\n",
    "obj.classB()\n",
    "obj.classC()"
   ]
  },
  {
   "cell_type": "markdown",
   "metadata": {},
   "source": [
    "- Packages and Modules\n",
    "    - Same as functions\n",
    "    - here we will deal with classes and Objects\n",
    "    - Package(Folder) -- Colection of Modules\n",
    "    - Module(.py file) -- Collection of functions and classes\n",
    "- Accesing Modules\n",
    "    - Import package\n",
    "    - from module import class"
   ]
  },
  {
   "cell_type": "code",
   "execution_count": 25,
   "metadata": {},
   "outputs": [
    {
     "data": {
      "text/plain": [
       "20"
      ]
     },
     "execution_count": 25,
     "metadata": {},
     "output_type": "execute_result"
    }
   ],
   "source": [
    "from package import mymodule\n",
    "obj = mymodule.Calci\n",
    "obj.add(10,10)"
   ]
  },
  {
   "cell_type": "code",
   "execution_count": 27,
   "metadata": {},
   "outputs": [
    {
     "name": "stdout",
     "output_type": "stream",
     "text": [
      "20\n",
      "100\n"
     ]
    }
   ],
   "source": [
    "from package import mymodule\n",
    "obj= mymodule.Calci1(10,10)\n",
    "print(obj.__add__())\n",
    "print(obj.__mul__())"
   ]
  },
  {
   "cell_type": "code",
   "execution_count": 28,
   "metadata": {},
   "outputs": [
    {
     "data": {
      "text/plain": [
       "False"
      ]
     },
     "execution_count": 28,
     "metadata": {},
     "output_type": "execute_result"
    }
   ],
   "source": [
    "from package import mymodule\n",
    "obj1 = mymodule.Modu\n",
    "obj1.isEven(9)"
   ]
  },
  {
   "cell_type": "code",
   "execution_count": null,
   "metadata": {},
   "outputs": [],
   "source": []
  }
 ],
 "metadata": {
  "kernelspec": {
   "display_name": "Python 3",
   "language": "python",
   "name": "python3"
  },
  "language_info": {
   "codemirror_mode": {
    "name": "ipython",
    "version": 3
   },
   "file_extension": ".py",
   "mimetype": "text/x-python",
   "name": "python",
   "nbconvert_exporter": "python",
   "pygments_lexer": "ipython3",
   "version": "3.7.1"
  }
 },
 "nbformat": 4,
 "nbformat_minor": 2
}
