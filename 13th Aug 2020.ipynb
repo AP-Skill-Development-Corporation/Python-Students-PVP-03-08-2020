{
 "cells": [
  {
   "cell_type": "markdown",
   "metadata": {},
   "source": [
    "- File handling and File data processing\n",
    "    - used to store related information.\n",
    "    - steps\n",
    "        - open\n",
    "            - use open()\n",
    "                - open file in read or write mode.\n",
    "                - returns the file object.\n",
    "                - syntax:\n",
    "                    - open(filename,mode)\n",
    "            - with open \n",
    "                - open file in read or write mode\n",
    "                - it doesn't require close()\n",
    "                - With automatically closes the file at the end of operation\n",
    "                - syntax\n",
    "                    - with open(filename,mode) as variable:\n",
    "        - Doing operations\n",
    "        - close file\n",
    "            - close()\n",
    "                - used to close file\n",
    "                - have to close file at the end of operation,otherwise changes you made will not be saved\n",
    "    - Modes\n",
    "        - read mode -- r\n",
    "        - write mode -- w\n",
    "        - append mode -- a"
   ]
  },
  {
   "cell_type": "code",
   "execution_count": 2,
   "metadata": {},
   "outputs": [
    {
     "name": "stdout",
     "output_type": "stream",
     "text": [
      "Welcome to python online programming\n",
      "<class 'str'>\n"
     ]
    }
   ],
   "source": [
    "# open()\n",
    "# if we didn't mention any mode in open() it defaults take it as read\n",
    "f = open('Datafiles/info.txt')\n",
    "data = f.read()\n",
    "print(data)\n",
    "f.close()\n",
    "print(type(data))"
   ]
  },
  {
   "cell_type": "code",
   "execution_count": 5,
   "metadata": {},
   "outputs": [
    {
     "name": "stdout",
     "output_type": "stream",
     "text": [
      "Welcome to python online programming\n",
      "<class 'str'>\n"
     ]
    }
   ],
   "source": [
    "with open('Datafiles/info.txt','r') as fh:\n",
    "    info = fh.read()\n",
    "    print(info)\n",
    "    print(type(info))"
   ]
  },
  {
   "cell_type": "code",
   "execution_count": 7,
   "metadata": {},
   "outputs": [
    {
     "name": "stdout",
     "output_type": "stream",
     "text": [
      "APSSDC Python online program\n"
     ]
    }
   ],
   "source": [
    "# write operation\n",
    "with open('Datafiles/info.txt','w') as fh:\n",
    "    fa = fh.write('APSSDC Python online program')\n",
    "    # print(fa)\n",
    "with open('Datafiles/info.txt','r') as fh:\n",
    "    fdata = fh.read()\n",
    "    print(fdata)"
   ]
  },
  {
   "cell_type": "code",
   "execution_count": 8,
   "metadata": {},
   "outputs": [
    {
     "ename": "FileNotFoundError",
     "evalue": "[Errno 2] No such file or directory: 'Datafiles/data.txt'",
     "output_type": "error",
     "traceback": [
      "\u001b[1;31m---------------------------------------------------------------------------\u001b[0m",
      "\u001b[1;31mFileNotFoundError\u001b[0m                         Traceback (most recent call last)",
      "\u001b[1;32m<ipython-input-8-b1db36e72298>\u001b[0m in \u001b[0;36m<module>\u001b[1;34m\u001b[0m\n\u001b[1;32m----> 1\u001b[1;33m \u001b[1;32mwith\u001b[0m \u001b[0mopen\u001b[0m\u001b[1;33m(\u001b[0m\u001b[1;34m'Datafiles/data.txt'\u001b[0m\u001b[1;33m)\u001b[0m \u001b[1;32mas\u001b[0m \u001b[0mfh\u001b[0m\u001b[1;33m:\u001b[0m\u001b[1;33m\u001b[0m\u001b[1;33m\u001b[0m\u001b[0m\n\u001b[0m\u001b[0;32m      2\u001b[0m     \u001b[0mfs\u001b[0m \u001b[1;33m=\u001b[0m \u001b[0mfh\u001b[0m\u001b[1;33m.\u001b[0m\u001b[0mread\u001b[0m\u001b[1;33m(\u001b[0m\u001b[1;33m)\u001b[0m\u001b[1;33m\u001b[0m\u001b[1;33m\u001b[0m\u001b[0m\n\u001b[0;32m      3\u001b[0m     \u001b[0mprint\u001b[0m\u001b[1;33m(\u001b[0m\u001b[0mfs\u001b[0m\u001b[1;33m)\u001b[0m\u001b[1;33m\u001b[0m\u001b[1;33m\u001b[0m\u001b[0m\n",
      "\u001b[1;31mFileNotFoundError\u001b[0m: [Errno 2] No such file or directory: 'Datafiles/data.txt'"
     ]
    }
   ],
   "source": [
    "# read \n",
    "with open('Datafiles/data.txt') as fh:\n",
    "    fs = fh.read()\n",
    "    print(fs)"
   ]
  },
  {
   "cell_type": "code",
   "execution_count": 9,
   "metadata": {},
   "outputs": [
    {
     "name": "stdout",
     "output_type": "stream",
     "text": [
      "40\n"
     ]
    }
   ],
   "source": [
    "# write \n",
    "with open('Datafiles/data.txt','w') as fh:\n",
    "    fs = fh.write('No such file data.txt in my directory...')\n",
    "    print(fs)"
   ]
  },
  {
   "cell_type": "code",
   "execution_count": 10,
   "metadata": {},
   "outputs": [
    {
     "name": "stdout",
     "output_type": "stream",
     "text": [
      "19\n",
      "No such file data.txt in my directory... On 13th Aug 2020..\n"
     ]
    }
   ],
   "source": [
    "with open('Datafiles/data.txt','a') as fh:\n",
    "    fs = fh.write(' On 13th Aug 2020..')\n",
    "    print(fs)\n",
    "with open('Datafiles/data.txt') as fh:\n",
    "    fs = fh.read()\n",
    "    print(fs)"
   ]
  },
  {
   "cell_type": "code",
   "execution_count": 11,
   "metadata": {},
   "outputs": [
    {
     "name": "stdout",
     "output_type": "stream",
     "text": [
      "19\n",
      " On 13th Aug 2020..\n"
     ]
    }
   ],
   "source": [
    "with open('Datafiles/data1.txt','a') as fh:\n",
    "    fs = fh.write(' On 13th Aug 2020..')\n",
    "    print(fs)\n",
    "with open('Datafiles/data1.txt') as fh:\n",
    "    fs = fh.read()\n",
    "    print(fs)"
   ]
  },
  {
   "cell_type": "markdown",
   "metadata": {},
   "source": [
    "- tell()\n",
    "    - helps to know the cursor position in file\n",
    "- seek()\n",
    "    - helps to move the cursor to particular position."
   ]
  },
  {
   "cell_type": "code",
   "execution_count": 13,
   "metadata": {},
   "outputs": [
    {
     "name": "stdout",
     "output_type": "stream",
     "text": [
      "3\n"
     ]
    }
   ],
   "source": [
    "with open('Datafiles/data1.txt') as fh:\n",
    "    fs = fh.read()\n",
    "    print(fh.tell())"
   ]
  },
  {
   "cell_type": "code",
   "execution_count": 17,
   "metadata": {},
   "outputs": [
    {
     "name": "stdout",
     "output_type": "stream",
     "text": [
      " file data.txt in my directory... On 13th Aug 2020..\n"
     ]
    }
   ],
   "source": [
    "with open('Datafiles/data.txt') as fh:\n",
    "    fh.read()\n",
    "    fh.seek(7)\n",
    "    print(fh.read())"
   ]
  },
  {
   "cell_type": "code",
   "execution_count": 19,
   "metadata": {},
   "outputs": [
    {
     "name": "stdout",
     "output_type": "stream",
     "text": [
      "['No', 'such', 'file', 'data.txt', 'in', 'my', 'directory...', 'On', '13th', 'Aug', '2020..']\n"
     ]
    }
   ],
   "source": [
    "with open('Datafiles/data.txt') as fh:\n",
    "    fs = fh.read()\n",
    "    words = fs.split()\n",
    "    print(words)"
   ]
  },
  {
   "cell_type": "code",
   "execution_count": 22,
   "metadata": {},
   "outputs": [
    {
     "name": "stdout",
     "output_type": "stream",
     "text": [
      "Hii..\n",
      "\n",
      "Welcome\n",
      "\n"
     ]
    }
   ],
   "source": [
    "with open('Datafiles/demo.txt') as fh:\n",
    "    print(fh.readline())\n",
    "    print(fh.readline())"
   ]
  },
  {
   "cell_type": "code",
   "execution_count": 25,
   "metadata": {},
   "outputs": [
    {
     "name": "stdout",
     "output_type": "stream",
     "text": [
      "['Hii..\\n', 'Welcome\\n', 'to\\n', 'python\\n', 'Online Session\\n', 'Conducted\\n', 'by APSSDC']\n"
     ]
    }
   ],
   "source": [
    "with open('Datafiles/demo.txt') as fh:\n",
    "    print(fh.readlines())"
   ]
  },
  {
   "cell_type": "code",
   "execution_count": 26,
   "metadata": {},
   "outputs": [
    {
     "name": "stdout",
     "output_type": "stream",
     "text": [
      "Hii..\n",
      " Welcome\n",
      " to\n",
      " python\n",
      " Online Session\n",
      " Conducted\n",
      " by APSSDC "
     ]
    }
   ],
   "source": [
    "with open('Datafiles/demo.txt') as fh:\n",
    "    fs = fh.readlines()\n",
    "    for i in fs:\n",
    "        print(i,end=\" \")"
   ]
  },
  {
   "cell_type": "code",
   "execution_count": 27,
   "metadata": {},
   "outputs": [
    {
     "name": "stdout",
     "output_type": "stream",
     "text": [
      "7\n"
     ]
    }
   ],
   "source": [
    "with open('Datafiles/demo.txt') as fh:\n",
    "    fs = fh.readlines()\n",
    "    print(len(fs))"
   ]
  },
  {
   "cell_type": "code",
   "execution_count": 31,
   "metadata": {},
   "outputs": [
    {
     "name": "stdout",
     "output_type": "stream",
     "text": [
      "\n",
      "to\n",
      "python\n",
      "Online Session\n",
      "Conducted\n",
      "by APSSDC\n"
     ]
    }
   ],
   "source": [
    "with open('Datafiles/demo.txt') as fh:\n",
    "    fh.read()\n",
    "    fh.seek(13)\n",
    "    print(fh.read())"
   ]
  },
  {
   "cell_type": "markdown",
   "metadata": {},
   "source": [
    "- Tasks\n",
    "    - character count with spaces\n",
    "    - character count without spaces\n",
    "    - words count\n",
    "    - Unique words\n",
    "    - Frequency of words"
   ]
  },
  {
   "cell_type": "markdown",
   "metadata": {},
   "source": [
    "- Data Processing\n",
    "    - working with the data in the file "
   ]
  },
  {
   "cell_type": "code",
   "execution_count": 32,
   "metadata": {},
   "outputs": [
    {
     "name": "stdout",
     "output_type": "stream",
     "text": [
      "Enter student count: 50\n",
      "Enter lower mark range: 1\n",
      "Enter highest mark range: 100\n"
     ]
    }
   ],
   "source": [
    "# generate student marks randomly\n",
    "from random import randint\n",
    "def marksGen(n,lb,ub):\n",
    "    with open('Datafiles/marks.txt','w') as f:\n",
    "        for i in range(0,n):\n",
    "            r = randint(lb,ub)\n",
    "            f.write(str(r)+'\\n')\n",
    "    return\n",
    "n = int(input(\"Enter student count: \"))\n",
    "lb = int(input(\"Enter lower mark range: \"))\n",
    "ub = int(input(\"Enter highest mark range: \"))\n",
    "marksGen(n,lb,ub)"
   ]
  },
  {
   "cell_type": "code",
   "execution_count": 33,
   "metadata": {},
   "outputs": [
    {
     "data": {
      "text/plain": [
       "52.78"
      ]
     },
     "execution_count": 33,
     "metadata": {},
     "output_type": "execute_result"
    }
   ],
   "source": [
    "# Class average\n",
    "def classAvg(filepath):\n",
    "    with open(filepath) as f:\n",
    "        filedata = f.read()\n",
    "        marks = filedata.split()\n",
    "        sum = 0\n",
    "        for mark in marks:\n",
    "            sum += int(mark)\n",
    "    return sum/len(marks)\n",
    "filepath = 'Datafiles/marks.txt'\n",
    "classAvg(filepath)"
   ]
  },
  {
   "cell_type": "markdown",
   "metadata": {},
   "source": [
    "- Report Generation\n",
    "    - Percentage of students passed\n",
    "        - marks >= 35\n",
    "    - Percentage of students Failed\n",
    "        - 100 - passpercentage\n",
    "    - Percentage of students Distinction\n",
    "        - marks >= 75\n",
    "    - Highest marks frequency\n",
    "    - lowest marks frequency"
   ]
  },
  {
   "cell_type": "code",
   "execution_count": 47,
   "metadata": {},
   "outputs": [
    {
     "data": {
      "text/plain": [
       "True"
      ]
     },
     "execution_count": 47,
     "metadata": {},
     "output_type": "execute_result"
    }
   ],
   "source": [
    "# Find and replace\n",
    "def iswordexist(filepath,word):\n",
    "    with open(filepath,'r') as f:\n",
    "        data = f.read()\n",
    "        words = data.split()\n",
    "        if word in words:\n",
    "            count = words.count(word)\n",
    "            return True\n",
    "        return False\n",
    "filepath = 'Datafiles/word.txt'\n",
    "iswordexist(filepath,'python')"
   ]
  },
  {
   "cell_type": "code",
   "execution_count": 48,
   "metadata": {},
   "outputs": [
    {
     "data": {
      "text/plain": [
       "True"
      ]
     },
     "execution_count": 48,
     "metadata": {},
     "output_type": "execute_result"
    }
   ],
   "source": [
    "def Iswordexist(filepath,word):\n",
    "    with open(filepath,'r') as f:\n",
    "        data = f.read()\n",
    "        words = data.split()\n",
    "        if word in words:\n",
    "            count = words.count(word)\n",
    "            return True\n",
    "        return False\n",
    "Iswordexist('Datafiles/word.txt','to')"
   ]
  },
  {
   "cell_type": "code",
   "execution_count": 49,
   "metadata": {},
   "outputs": [
    {
     "name": "stdout",
     "output_type": "stream",
     "text": [
      "Welcome 1234 python online programming\n"
     ]
    }
   ],
   "source": [
    "with open('Datafiles/word.txt') as f:\n",
    "    data = f.read()\n",
    "    if Iswordexist('Datafiles/word.txt','to'):\n",
    "        print(data.replace('to','1234'))"
   ]
  },
  {
   "cell_type": "markdown",
   "metadata": {},
   "source": []
  },
  {
   "cell_type": "code",
   "execution_count": 52,
   "metadata": {},
   "outputs": [
    {
     "name": "stdout",
     "output_type": "stream",
     "text": [
      "Enter your email: dvsjahnavi2001@gmail.com\n",
      "valid..\n"
     ]
    }
   ],
   "source": [
    "# Emailvalidation\n",
    "# username min - 5 max - 20\n",
    "# pattern -- ^[0-9a-z][0-9a-z_.]{4,20}[@]\n",
    "# domain -- [a-z]{5,9}[.]\n",
    "# [a-z]{2,5}$\n",
    "import re\n",
    "email = input(\"Enter your email: \")\n",
    "pattern = '^[0-9a-z][0-9a-z_.]{4,20}[@][a-z]{5,9}[.][a-z]{2,5}$'\n",
    "if re.match(pattern,email):\n",
    "    print('valid..')\n",
    "else:\n",
    "    print(\"Not Valid...\")"
   ]
  },
  {
   "cell_type": "code",
   "execution_count": 54,
   "metadata": {},
   "outputs": [
    {
     "name": "stdout",
     "output_type": "stream",
     "text": [
      "Enter your password: apssdc@1234\n",
      "Not Valid...\n"
     ]
    }
   ],
   "source": [
    "# password Apssdc@123\n",
    "# pattern -- ^[A-Z][a-z]{5,10}[@][0-9]{3}$\n",
    "import re\n",
    "password = input(\"Enter your password: \")\n",
    "pattern = '^[A-Z][a-z]{5,10}[@][0-9]{3}$'\n",
    "if re.match(pattern,password):\n",
    "    print('valid..')\n",
    "else:\n",
    "    print(\"Not Valid...\")"
   ]
  },
  {
   "cell_type": "code",
   "execution_count": 60,
   "metadata": {},
   "outputs": [
    {
     "name": "stdout",
     "output_type": "stream",
     "text": [
      "Enter your mail address: ambika_p@apssdc.in\n",
      "Mail address is valid\n"
     ]
    }
   ],
   "source": [
    "mail = input(\"Enter your mail address: \")\n",
    "pattern = '^[a-z0-9][a-z0-9_.]{5,10}[@][a-z]{5,10}[.][a-z]{2,5}$'\n",
    "if re.match(pattern, mail):\n",
    "    print('Mail address is valid')\n",
    "else:\n",
    "    print('Mail address is invalid')"
   ]
  },
  {
   "cell_type": "code",
   "execution_count": null,
   "metadata": {},
   "outputs": [],
   "source": []
  }
 ],
 "metadata": {
  "kernelspec": {
   "display_name": "Python 3",
   "language": "python",
   "name": "python3"
  },
  "language_info": {
   "codemirror_mode": {
    "name": "ipython",
    "version": 3
   },
   "file_extension": ".py",
   "mimetype": "text/x-python",
   "name": "python",
   "nbconvert_exporter": "python",
   "pygments_lexer": "ipython3",
   "version": "3.7.1"
  }
 },
 "nbformat": 4,
 "nbformat_minor": 2
}
