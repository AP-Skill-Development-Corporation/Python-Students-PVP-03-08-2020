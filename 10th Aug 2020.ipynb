{
 "cells": [
  {
   "cell_type": "markdown",
   "metadata": {},
   "source": [
    "- Data Structure\n",
    "    - way of organising and storing data\n",
    "    - Accessed and work effeciently\n",
    "- 4 types\n",
    "    - list\n",
    "    - tuple\n",
    "    - Dictionary\n",
    "    - Set"
   ]
  },
  {
   "cell_type": "markdown",
   "metadata": {},
   "source": [
    "- Lists\n",
    "    - collection of hetrogenous data\n",
    "    - mutable,ordered\n",
    "    - Allow duplicate elements\n",
    "    - represented by square braces []"
   ]
  },
  {
   "cell_type": "code",
   "execution_count": 1,
   "metadata": {},
   "outputs": [
    {
     "data": {
      "text/plain": [
       "list"
      ]
     },
     "execution_count": 1,
     "metadata": {},
     "output_type": "execute_result"
    }
   ],
   "source": [
    "# Empty list\n",
    "l = []\n",
    "type(l)"
   ]
  },
  {
   "cell_type": "code",
   "execution_count": 2,
   "metadata": {},
   "outputs": [
    {
     "data": {
      "text/plain": [
       "list"
      ]
     },
     "execution_count": 2,
     "metadata": {},
     "output_type": "execute_result"
    }
   ],
   "source": [
    "# Ordered\n",
    "li = [1,2,3,6.8,'a']\n",
    "type(li)"
   ]
  },
  {
   "cell_type": "code",
   "execution_count": 4,
   "metadata": {},
   "outputs": [
    {
     "name": "stdout",
     "output_type": "stream",
     "text": [
      "[1, 2, 3, 1, 2]\n",
      "<class 'list'>\n"
     ]
    }
   ],
   "source": [
    "li1 = [1,2,3,1,2]\n",
    "print(li1)\n",
    "print(type(li1))"
   ]
  },
  {
   "cell_type": "code",
   "execution_count": 5,
   "metadata": {},
   "outputs": [
    {
     "name": "stdout",
     "output_type": "stream",
     "text": [
      "['ArithmeticError', 'AssertionError', 'AttributeError', 'BaseException', 'BlockingIOError', 'BrokenPipeError', 'BufferError', 'BytesWarning', 'ChildProcessError', 'ConnectionAbortedError', 'ConnectionError', 'ConnectionRefusedError', 'ConnectionResetError', 'DeprecationWarning', 'EOFError', 'Ellipsis', 'EnvironmentError', 'Exception', 'False', 'FileExistsError', 'FileNotFoundError', 'FloatingPointError', 'FutureWarning', 'GeneratorExit', 'IOError', 'ImportError', 'ImportWarning', 'IndentationError', 'IndexError', 'InterruptedError', 'IsADirectoryError', 'KeyError', 'KeyboardInterrupt', 'LookupError', 'MemoryError', 'ModuleNotFoundError', 'NameError', 'None', 'NotADirectoryError', 'NotImplemented', 'NotImplementedError', 'OSError', 'OverflowError', 'PendingDeprecationWarning', 'PermissionError', 'ProcessLookupError', 'RecursionError', 'ReferenceError', 'ResourceWarning', 'RuntimeError', 'RuntimeWarning', 'StopAsyncIteration', 'StopIteration', 'SyntaxError', 'SyntaxWarning', 'SystemError', 'SystemExit', 'TabError', 'TimeoutError', 'True', 'TypeError', 'UnboundLocalError', 'UnicodeDecodeError', 'UnicodeEncodeError', 'UnicodeError', 'UnicodeTranslateError', 'UnicodeWarning', 'UserWarning', 'ValueError', 'Warning', 'WindowsError', 'ZeroDivisionError', '__IPYTHON__', '__build_class__', '__debug__', '__doc__', '__import__', '__loader__', '__name__', '__package__', '__spec__', 'abs', 'all', 'any', 'ascii', 'bin', 'bool', 'breakpoint', 'bytearray', 'bytes', 'callable', 'chr', 'classmethod', 'compile', 'complex', 'copyright', 'credits', 'delattr', 'dict', 'dir', 'display', 'divmod', 'enumerate', 'eval', 'exec', 'filter', 'float', 'format', 'frozenset', 'get_ipython', 'getattr', 'globals', 'hasattr', 'hash', 'help', 'hex', 'id', 'input', 'int', 'isinstance', 'issubclass', 'iter', 'len', 'license', 'list', 'locals', 'map', 'max', 'memoryview', 'min', 'next', 'object', 'oct', 'open', 'ord', 'pow', 'print', 'property', 'range', 'repr', 'reversed', 'round', 'set', 'setattr', 'slice', 'sorted', 'staticmethod', 'str', 'sum', 'super', 'tuple', 'type', 'vars', 'zip'] "
     ]
    }
   ],
   "source": [
    "print(dir(__builtins__),end=\" \")"
   ]
  },
  {
   "cell_type": "code",
   "execution_count": 6,
   "metadata": {},
   "outputs": [
    {
     "name": "stdout",
     "output_type": "stream",
     "text": [
      "type <class 'list'>\n",
      "length 7\n",
      "max value  60\n",
      "Min value  0\n",
      "Sum of list  80\n",
      "Sorted list  [0, 1, 2, 3, 6, 8, 60]\n",
      "Sorted in reverse order  [60, 8, 6, 3, 2, 1, 0]\n"
     ]
    }
   ],
   "source": [
    "# built in function\n",
    "l = [60,2,8,0,1,6,3]\n",
    "print(\"type\",type(l))\n",
    "print(\"length\",len(l))\n",
    "print(\"max value \",max(l))\n",
    "print(\"Min value \",min(l))\n",
    "print(\"Sum of list \",sum(l))\n",
    "print(\"Sorted list \",sorted(l))\n",
    "print(\"Sorted in reverse order \",sorted(l,reverse=True))"
   ]
  },
  {
   "cell_type": "code",
   "execution_count": 7,
   "metadata": {},
   "outputs": [
    {
     "ename": "TypeError",
     "evalue": "'<' not supported between instances of 'str' and 'int'",
     "output_type": "error",
     "traceback": [
      "\u001b[1;31m---------------------------------------------------------------------------\u001b[0m",
      "\u001b[1;31mTypeError\u001b[0m                                 Traceback (most recent call last)",
      "\u001b[1;32m<ipython-input-7-b2a5d0b75ece>\u001b[0m in \u001b[0;36m<module>\u001b[1;34m\u001b[0m\n\u001b[0;32m      1\u001b[0m \u001b[0ml1\u001b[0m \u001b[1;33m=\u001b[0m \u001b[1;33m[\u001b[0m\u001b[1;36m60\u001b[0m\u001b[1;33m,\u001b[0m\u001b[1;36m2\u001b[0m\u001b[1;33m,\u001b[0m\u001b[1;36m8\u001b[0m\u001b[1;33m,\u001b[0m\u001b[1;36m0\u001b[0m\u001b[1;33m,\u001b[0m\u001b[1;36m1\u001b[0m\u001b[1;33m,\u001b[0m\u001b[1;36m6\u001b[0m\u001b[1;33m,\u001b[0m\u001b[1;36m3\u001b[0m\u001b[1;33m,\u001b[0m\u001b[1;34m'a'\u001b[0m\u001b[1;33m,\u001b[0m\u001b[1;34m'b'\u001b[0m\u001b[1;33m,\u001b[0m\u001b[1;36m8.9\u001b[0m\u001b[1;33m]\u001b[0m\u001b[1;33m\u001b[0m\u001b[1;33m\u001b[0m\u001b[0m\n\u001b[1;32m----> 2\u001b[1;33m \u001b[0mprint\u001b[0m\u001b[1;33m(\u001b[0m\u001b[1;34m\"Sorted list \"\u001b[0m\u001b[1;33m,\u001b[0m\u001b[0msorted\u001b[0m\u001b[1;33m(\u001b[0m\u001b[0ml1\u001b[0m\u001b[1;33m)\u001b[0m\u001b[1;33m)\u001b[0m\u001b[1;33m\u001b[0m\u001b[1;33m\u001b[0m\u001b[0m\n\u001b[0m",
      "\u001b[1;31mTypeError\u001b[0m: '<' not supported between instances of 'str' and 'int'"
     ]
    }
   ],
   "source": [
    "l1 = [60,2,8,0,1,6,3,'a','b',8.9]\n",
    "print(\"Sorted list \",sorted(l1))"
   ]
  },
  {
   "cell_type": "code",
   "execution_count": 8,
   "metadata": {},
   "outputs": [
    {
     "name": "stdout",
     "output_type": "stream",
     "text": [
      "type <class 'list'>\n",
      "length 6\n",
      "max value  z\n",
      "Min value  a\n",
      "Sorted list  ['a', 'g', 'i', 'o', 's', 'z']\n",
      "Sorted in reverse order  ['z', 's', 'o', 'i', 'g', 'a']\n"
     ]
    }
   ],
   "source": [
    "l1 = ['z','g','a','s','i','o']\n",
    "print(\"type\",type(l1))\n",
    "print(\"length\",len(l1))\n",
    "print(\"max value \",max(l1))\n",
    "print(\"Min value \",min(l1))\n",
    "#print(\"Sum of list \",sum(l))\n",
    "print(\"Sorted list \",sorted(l1))\n",
    "print(\"Sorted in reverse order \",sorted(l1,reverse=True))"
   ]
  },
  {
   "cell_type": "code",
   "execution_count": 13,
   "metadata": {},
   "outputs": [
    {
     "name": "stdout",
     "output_type": "stream",
     "text": [
      "['z', 'g', 'a', 's', 'i', 'o']\n",
      "a\n",
      "a\n",
      "['z', 'g', 'a']\n",
      "['o', 'i', 's', 'a', 'g', 'z']\n"
     ]
    }
   ],
   "source": [
    "# Accessing list elements\n",
    "# Indexing\n",
    "print(l1)\n",
    "print(l1[2])# forward index\n",
    "print(l1[-4])# backward index\n",
    "print(l1[0:3])# slicing\n",
    "print(l1[::-1])"
   ]
  },
  {
   "cell_type": "code",
   "execution_count": 25,
   "metadata": {},
   "outputs": [
    {
     "data": {
      "text/plain": [
       "[1, 2, 3, 4, 5, 5, 6, 7, 8, 9]"
      ]
     },
     "execution_count": 25,
     "metadata": {},
     "output_type": "execute_result"
    }
   ],
   "source": [
    "# concatination\n",
    "l1 = [1,2,3,4,5]\n",
    "l2 = [5,6,7,8,9]\n",
    "s = l1 + l2\n",
    "s"
   ]
  },
  {
   "cell_type": "code",
   "execution_count": 16,
   "metadata": {},
   "outputs": [
    {
     "name": "stdout",
     "output_type": "stream",
     "text": [
      "[5, 6, 7]\n",
      "6\n"
     ]
    }
   ],
   "source": [
    "li = [1,2,3,4,[5,6,7],8,9,10]\n",
    "print(li[4])\n",
    "print(li[4][1])"
   ]
  },
  {
   "cell_type": "code",
   "execution_count": 19,
   "metadata": {},
   "outputs": [
    {
     "name": "stdout",
     "output_type": "stream",
     "text": [
      "[1, 2, 3, 4, [5, 6, 7], 8, 9, 0]\n"
     ]
    }
   ],
   "source": [
    "# changable\n",
    "li[-1] = 0\n",
    "print(li)"
   ]
  },
  {
   "cell_type": "code",
   "execution_count": 20,
   "metadata": {},
   "outputs": [
    {
     "name": "stdout",
     "output_type": "stream",
     "text": [
      "['__add__', '__class__', '__contains__', '__delattr__', '__delitem__', '__dir__', '__doc__', '__eq__', '__format__', '__ge__', '__getattribute__', '__getitem__', '__gt__', '__hash__', '__iadd__', '__imul__', '__init__', '__init_subclass__', '__iter__', '__le__', '__len__', '__lt__', '__mul__', '__ne__', '__new__', '__reduce__', '__reduce_ex__', '__repr__', '__reversed__', '__rmul__', '__setattr__', '__setitem__', '__sizeof__', '__str__', '__subclasshook__', 'append', 'clear', 'copy', 'count', 'extend', 'index', 'insert', 'pop', 'remove', 'reverse', 'sort'] "
     ]
    }
   ],
   "source": [
    "print(dir(list),end=\" \")"
   ]
  },
  {
   "cell_type": "code",
   "execution_count": 21,
   "metadata": {},
   "outputs": [
    {
     "name": "stdout",
     "output_type": "stream",
     "text": [
      "[12, 5, 7, 9, 3, 50]\n"
     ]
    }
   ],
   "source": [
    "l1 = [12,5,7,9,3]\n",
    "l1.append(50)\n",
    "print(l1)"
   ]
  },
  {
   "cell_type": "code",
   "execution_count": 22,
   "metadata": {},
   "outputs": [
    {
     "data": {
      "text/plain": [
       "[12, 5, 7, 9, 3, 50, [1, 2, 3]]"
      ]
     },
     "execution_count": 22,
     "metadata": {},
     "output_type": "execute_result"
    }
   ],
   "source": [
    "l1.append([1,2,3])\n",
    "l1"
   ]
  },
  {
   "cell_type": "code",
   "execution_count": 23,
   "metadata": {},
   "outputs": [
    {
     "name": "stdout",
     "output_type": "stream",
     "text": [
      "[1, 2, 3, 4, 5, 6, 7, 8]\n",
      "[5, 6, 7, 8]\n"
     ]
    }
   ],
   "source": [
    "l = [1,2,3,4]\n",
    "h = [5,6,7,8]\n",
    "l.extend(h)\n",
    "print(l)\n",
    "print(h)"
   ]
  },
  {
   "cell_type": "code",
   "execution_count": 24,
   "metadata": {},
   "outputs": [
    {
     "data": {
      "text/plain": [
       "1"
      ]
     },
     "execution_count": 24,
     "metadata": {},
     "output_type": "execute_result"
    }
   ],
   "source": [
    "l.count(1)"
   ]
  },
  {
   "cell_type": "code",
   "execution_count": 26,
   "metadata": {},
   "outputs": [
    {
     "data": {
      "text/plain": [
       "[1, 2, 3, 4, 5, 5, 6, 7, 8, 9]"
      ]
     },
     "execution_count": 26,
     "metadata": {},
     "output_type": "execute_result"
    }
   ],
   "source": [
    "s"
   ]
  },
  {
   "cell_type": "code",
   "execution_count": 27,
   "metadata": {},
   "outputs": [
    {
     "data": {
      "text/plain": [
       "2"
      ]
     },
     "execution_count": 27,
     "metadata": {},
     "output_type": "execute_result"
    }
   ],
   "source": [
    "s.count(5)"
   ]
  },
  {
   "cell_type": "code",
   "execution_count": 28,
   "metadata": {},
   "outputs": [
    {
     "data": {
      "text/plain": [
       "1"
      ]
     },
     "execution_count": 28,
     "metadata": {},
     "output_type": "execute_result"
    }
   ],
   "source": [
    "k = [1,2,3,4,[1,2,7]]\n",
    "k.count(1)"
   ]
  },
  {
   "cell_type": "code",
   "execution_count": 29,
   "metadata": {},
   "outputs": [
    {
     "data": {
      "text/plain": [
       "4"
      ]
     },
     "execution_count": 29,
     "metadata": {},
     "output_type": "execute_result"
    }
   ],
   "source": [
    "s.index(5)"
   ]
  },
  {
   "cell_type": "code",
   "execution_count": 30,
   "metadata": {},
   "outputs": [
    {
     "data": {
      "text/plain": [
       "9"
      ]
     },
     "execution_count": 30,
     "metadata": {},
     "output_type": "execute_result"
    }
   ],
   "source": [
    "# pop \n",
    "# remove element based on index value\n",
    "s.pop()"
   ]
  },
  {
   "cell_type": "code",
   "execution_count": 31,
   "metadata": {},
   "outputs": [
    {
     "data": {
      "text/plain": [
       "[1, 2, 3, 4, 5, 5, 6, 7, 8]"
      ]
     },
     "execution_count": 31,
     "metadata": {},
     "output_type": "execute_result"
    }
   ],
   "source": [
    "s"
   ]
  },
  {
   "cell_type": "code",
   "execution_count": 32,
   "metadata": {},
   "outputs": [
    {
     "data": {
      "text/plain": [
       "[1, 2, 3, 4, 5, 6, 7, 8]"
      ]
     },
     "execution_count": 32,
     "metadata": {},
     "output_type": "execute_result"
    }
   ],
   "source": [
    "s.pop(5)\n",
    "s"
   ]
  },
  {
   "cell_type": "code",
   "execution_count": 33,
   "metadata": {},
   "outputs": [
    {
     "data": {
      "text/plain": [
       "[1, 2, 3, 4, 5, 6, 7]"
      ]
     },
     "execution_count": 33,
     "metadata": {},
     "output_type": "execute_result"
    }
   ],
   "source": [
    "# remove -- element \n",
    "s.remove(8)\n",
    "s"
   ]
  },
  {
   "cell_type": "code",
   "execution_count": 35,
   "metadata": {},
   "outputs": [
    {
     "data": {
      "text/plain": [
       "[1, 2, 3, 4, 5, 6, 'z', 7]"
      ]
     },
     "execution_count": 35,
     "metadata": {},
     "output_type": "execute_result"
    }
   ],
   "source": [
    "# insert(index position,value)\n",
    "s.insert(6,'z')\n",
    "s"
   ]
  },
  {
   "cell_type": "code",
   "execution_count": 36,
   "metadata": {},
   "outputs": [
    {
     "data": {
      "text/plain": [
       "[1, 2, 3, 4, 5, 6, 'z', 7]"
      ]
     },
     "execution_count": 36,
     "metadata": {},
     "output_type": "execute_result"
    }
   ],
   "source": [
    "s"
   ]
  },
  {
   "cell_type": "code",
   "execution_count": 37,
   "metadata": {},
   "outputs": [
    {
     "data": {
      "text/plain": [
       "[1, 2, 3, 4, 5, 6, 7]"
      ]
     },
     "execution_count": 37,
     "metadata": {},
     "output_type": "execute_result"
    }
   ],
   "source": [
    "s.remove('z')\n",
    "s"
   ]
  },
  {
   "cell_type": "code",
   "execution_count": 41,
   "metadata": {},
   "outputs": [
    {
     "data": {
      "text/plain": [
       "[0, 1, 2, 5, 7]"
      ]
     },
     "execution_count": 41,
     "metadata": {},
     "output_type": "execute_result"
    }
   ],
   "source": [
    "k = [0,7,5,1,2]\n",
    "k.sort()\n",
    "k"
   ]
  },
  {
   "cell_type": "code",
   "execution_count": 42,
   "metadata": {},
   "outputs": [
    {
     "data": {
      "text/plain": [
       "[7, 5, 2, 1, 0]"
      ]
     },
     "execution_count": 42,
     "metadata": {},
     "output_type": "execute_result"
    }
   ],
   "source": [
    "k.reverse()\n",
    "k"
   ]
  },
  {
   "cell_type": "code",
   "execution_count": 43,
   "metadata": {},
   "outputs": [
    {
     "data": {
      "text/plain": [
       "['a', 'c', 'g', 5, 8, 9, 0]"
      ]
     },
     "execution_count": 43,
     "metadata": {},
     "output_type": "execute_result"
    }
   ],
   "source": [
    "u = ['a','c','g',5,8,9,0,8.8]\n",
    "u.pop()\n",
    "u"
   ]
  },
  {
   "cell_type": "code",
   "execution_count": 44,
   "metadata": {},
   "outputs": [
    {
     "data": {
      "text/plain": [
       "['a', 'c', 5, 8, 9, 0]"
      ]
     },
     "execution_count": 44,
     "metadata": {},
     "output_type": "execute_result"
    }
   ],
   "source": [
    "u.pop(2)\n",
    "u"
   ]
  },
  {
   "cell_type": "code",
   "execution_count": 47,
   "metadata": {},
   "outputs": [
    {
     "name": "stdout",
     "output_type": "stream",
     "text": [
      "original list:  [56, 0, 1, 5, 5, 1, 90]\n",
      "Sorted list:  [0, 1, 1, 5, 5, 56, 90]\n",
      "reverse sort:  [90, 56, 5, 5, 1, 1, 0]\n"
     ]
    }
   ],
   "source": [
    "y = [56,0,1,5,5,1,90]\n",
    "print(\"original list: \",y)\n",
    "y.sort()\n",
    "print(\"Sorted list: \",y)\n",
    "y.sort(reverse=True)\n",
    "print(\"reverse sort: \",y)"
   ]
  },
  {
   "cell_type": "code",
   "execution_count": 48,
   "metadata": {},
   "outputs": [
    {
     "name": "stdout",
     "output_type": "stream",
     "text": [
      "Orginal list:  [5, 8, 0, 4, 'a', 'c', 7.5]\n",
      "Assigned list:  [5, 8, 0, 4, 'a', 'c', 7.5]\n"
     ]
    }
   ],
   "source": [
    "# Assignment\n",
    "t = [5,8,0,4,'a','c',7.5]\n",
    "t1 = t\n",
    "print(\"Orginal list: \",t)\n",
    "print(\"Assigned list: \",t1)"
   ]
  },
  {
   "cell_type": "code",
   "execution_count": 49,
   "metadata": {},
   "outputs": [
    {
     "name": "stdout",
     "output_type": "stream",
     "text": [
      "Orginal list:  [5, 8, 0, 4, 'a', 'c', 7.5, 'abc']\n",
      "Assigned list:  [5, 8, 0, 4, 'a', 'c', 7.5, 'abc']\n"
     ]
    }
   ],
   "source": [
    "t.append('abc')\n",
    "print(\"Orginal list: \",t)\n",
    "print(\"Assigned list: \",t1)"
   ]
  },
  {
   "cell_type": "code",
   "execution_count": 50,
   "metadata": {},
   "outputs": [
    {
     "name": "stdout",
     "output_type": "stream",
     "text": [
      "Orginal list:  [5, 8, 0, 4, 'a', 'c', 7.5]\n",
      "Copied list:  [5, 8, 0, 4, 'a', 'c', 7.5]\n"
     ]
    }
   ],
   "source": [
    "# Copy\n",
    "t2 = [5,8,0,4,'a','c',7.5]\n",
    "t3 = t2.copy()\n",
    "print(\"Orginal list: \",t2)\n",
    "print(\"Copied list: \",t3)"
   ]
  },
  {
   "cell_type": "code",
   "execution_count": 51,
   "metadata": {},
   "outputs": [
    {
     "name": "stdout",
     "output_type": "stream",
     "text": [
      "Orginal list:  [5, 8, 0, 4, 'a', 'c', 7.5, 'abc']\n",
      "Copied list:  [5, 8, 0, 4, 'a', 'c', 7.5]\n"
     ]
    }
   ],
   "source": [
    "t2.append('abc')\n",
    "print(\"Orginal list: \",t2)\n",
    "print(\"Copied list: \",t3)"
   ]
  },
  {
   "cell_type": "code",
   "execution_count": 52,
   "metadata": {},
   "outputs": [
    {
     "data": {
      "text/plain": [
       "[5, 8, 0, 4, 'a', 'c', 7.5, 'abc']"
      ]
     },
     "execution_count": 52,
     "metadata": {},
     "output_type": "execute_result"
    }
   ],
   "source": [
    "t1"
   ]
  },
  {
   "cell_type": "code",
   "execution_count": 53,
   "metadata": {},
   "outputs": [],
   "source": [
    "t1.clear()"
   ]
  },
  {
   "cell_type": "code",
   "execution_count": 54,
   "metadata": {},
   "outputs": [
    {
     "data": {
      "text/plain": [
       "[]"
      ]
     },
     "execution_count": 54,
     "metadata": {},
     "output_type": "execute_result"
    }
   ],
   "source": [
    "t1"
   ]
  },
  {
   "cell_type": "code",
   "execution_count": 55,
   "metadata": {},
   "outputs": [],
   "source": [
    "del t1"
   ]
  },
  {
   "cell_type": "code",
   "execution_count": 56,
   "metadata": {},
   "outputs": [
    {
     "ename": "NameError",
     "evalue": "name 't1' is not defined",
     "output_type": "error",
     "traceback": [
      "\u001b[1;31m---------------------------------------------------------------------------\u001b[0m",
      "\u001b[1;31mNameError\u001b[0m                                 Traceback (most recent call last)",
      "\u001b[1;32m<ipython-input-56-5db19043943a>\u001b[0m in \u001b[0;36m<module>\u001b[1;34m\u001b[0m\n\u001b[1;32m----> 1\u001b[1;33m \u001b[0mt1\u001b[0m\u001b[1;33m\u001b[0m\u001b[1;33m\u001b[0m\u001b[0m\n\u001b[0m",
      "\u001b[1;31mNameError\u001b[0m: name 't1' is not defined"
     ]
    }
   ],
   "source": [
    "t1"
   ]
  },
  {
   "cell_type": "code",
   "execution_count": 57,
   "metadata": {},
   "outputs": [
    {
     "name": "stdout",
     "output_type": "stream",
     "text": [
      "python\n"
     ]
    },
    {
     "data": {
      "text/plain": [
       "str"
      ]
     },
     "execution_count": 57,
     "metadata": {},
     "output_type": "execute_result"
    }
   ],
   "source": [
    "# dynamic input\n",
    "s = input()\n",
    "type(s)"
   ]
  },
  {
   "cell_type": "code",
   "execution_count": 64,
   "metadata": {},
   "outputs": [
    {
     "name": "stdout",
     "output_type": "stream",
     "text": [
      "1,2,3,4,5\n",
      "['1', '2', '3', '4', '5']\n",
      "<class 'list'>\n"
     ]
    }
   ],
   "source": [
    "d = input().split(',')\n",
    "print(d)\n",
    "print(type(d))"
   ]
  },
  {
   "cell_type": "code",
   "execution_count": 66,
   "metadata": {},
   "outputs": [
    {
     "data": {
      "text/plain": [
       "['1', '2', '3', '4', '5']"
      ]
     },
     "execution_count": 66,
     "metadata": {},
     "output_type": "execute_result"
    }
   ],
   "source": [
    "d"
   ]
  },
  {
   "cell_type": "code",
   "execution_count": 69,
   "metadata": {},
   "outputs": [
    {
     "name": "stdout",
     "output_type": "stream",
     "text": [
      "1 <class 'str'>\n",
      "2 <class 'str'>\n",
      "3 <class 'str'>\n",
      "4 <class 'str'>\n",
      "5 <class 'str'>\n"
     ]
    }
   ],
   "source": [
    "for i in d:\n",
    "    print(i,end=\" \")\n",
    "    print(type(i))"
   ]
  },
  {
   "cell_type": "code",
   "execution_count": 70,
   "metadata": {},
   "outputs": [
    {
     "name": "stdout",
     "output_type": "stream",
     "text": [
      "1 2 3 4 5\n",
      "<class 'list'>\n"
     ]
    }
   ],
   "source": [
    "# using map function\n",
    "# map(convertype,variable)\n",
    "f = input().split()\n",
    "print(type(f))"
   ]
  },
  {
   "cell_type": "code",
   "execution_count": 72,
   "metadata": {},
   "outputs": [
    {
     "data": {
      "text/plain": [
       "[1, 2, 3, 4, 5]"
      ]
     },
     "execution_count": 72,
     "metadata": {},
     "output_type": "execute_result"
    }
   ],
   "source": [
    "g = list(map(int,f))\n",
    "g"
   ]
  },
  {
   "cell_type": "code",
   "execution_count": 73,
   "metadata": {},
   "outputs": [
    {
     "name": "stdout",
     "output_type": "stream",
     "text": [
      "1 <class 'int'>\n",
      "2 <class 'int'>\n",
      "3 <class 'int'>\n",
      "4 <class 'int'>\n",
      "5 <class 'int'>\n"
     ]
    }
   ],
   "source": [
    "for i in g:\n",
    "    print(i,end=\" \")\n",
    "    print(type(i))"
   ]
  },
  {
   "cell_type": "code",
   "execution_count": 74,
   "metadata": {},
   "outputs": [
    {
     "name": "stdout",
     "output_type": "stream",
     "text": [
      "1 2 3 4 5\n",
      "[1, 4, 9, 16, 25]\n"
     ]
    }
   ],
   "source": [
    "# basic example \n",
    "# input -- 1 2 3 4 5\n",
    "# output -- 1 4 9 16 25\n",
    "l = input().split()\n",
    "li = []\n",
    "for i in l:\n",
    "    li.append(int(i)**2)\n",
    "print(li)"
   ]
  },
  {
   "cell_type": "markdown",
   "metadata": {},
   "source": [
    "- Tasks\n",
    "    - Duplicates Remove \n",
    "        - input -- [11,5,9,1,2,11,5]\n",
    "        - ouput -- [11,5,9,1,2]\n",
    "    - Unique elements\n",
    "        - input -- [11,5,9,1,2,11,5]\n",
    "        - output -- [9,1,2]\n",
    "    - Digit Frequency\n",
    "        - input - abc12gef4567789\n",
    "        - output - digits - 0-9\n",
    "                - 0110111211\n",
    "            - 0 - 0\n",
    "            - 1 - 1\n",
    "            - 2 - 1\n",
    "            - 3 - 0\n",
    "            - 4 - 1\n",
    "            - 5 - 1\n",
    "            - 6 - 1\n",
    "            - 7 - 2\n",
    "            - 8 - 1\n",
    "            - 9 - 1"
   ]
  },
  {
   "cell_type": "markdown",
   "metadata": {},
   "source": [
    "- String Tasks\n",
    "    - count number of alphabets,numbers,special chars in a string\n",
    "    - print even ASCII characters from input string\n",
    "        - input - python\n",
    "    - input - A P S S D C\n",
    "    - output - Apssdc\n",
    "    - Name task\n",
    "        - input - surname full name\n",
    "            - Puvvula Ambika Sai\n",
    "        - output - P. Ambika Sai\n",
    "    - Numbers Task\n",
    "        - input - 123 1234 12345 678 9876\n",
    "        - if 3 digit number -- 16\n",
    "            - check number is divisible by 5 or not\n",
    "        - if 4 digit number -- 46\n",
    "            - check number is divisible by 11 or not\n",
    "    - print words which are not ends with vowels\n",
    "        - input -- APSSDC Ambika Sai Pavani Sky baby\n",
    "        - output -- APSSDC Sky baby"
   ]
  },
  {
   "cell_type": "code",
   "execution_count": 75,
   "metadata": {},
   "outputs": [
    {
     "name": "stdout",
     "output_type": "stream",
     "text": [
      "Enter string: python@123\n",
      "Number of alphabets:  6\n",
      "Number of Digits:  3\n",
      "Number of Special char:  1\n"
     ]
    }
   ],
   "source": [
    "# count number of alphabets,numbers,special chars in a string\n",
    "def Count(string):\n",
    "    a = n = s = 0\n",
    "    for i in string:\n",
    "        if (i.isalpha()):\n",
    "            a += 1\n",
    "        elif (i.isdigit()):\n",
    "            n += 1\n",
    "        elif (i.isspace()==False):\n",
    "            s += 1\n",
    "    print(\"Number of alphabets: \",a)\n",
    "    print(\"Number of Digits: \",n)\n",
    "    print(\"Number of Special char: \",s)\n",
    "    return\n",
    "string = input(\"Enter string: \")\n",
    "Count(string)\n",
    "    "
   ]
  },
  {
   "cell_type": "code",
   "execution_count": 76,
   "metadata": {},
   "outputs": [
    {
     "name": "stdout",
     "output_type": "stream",
     "text": [
      "Enter string: A P S S D C\n",
      "Apssdc\n"
     ]
    }
   ],
   "source": [
    "# input - A P S S D C\n",
    "# output - Apssdc\n",
    "a = input(\"Enter string: \")\n",
    "b = a[::2].lower()\n",
    "print(b.title())"
   ]
  },
  {
   "cell_type": "code",
   "execution_count": 77,
   "metadata": {},
   "outputs": [
    {
     "name": "stdout",
     "output_type": "stream",
     "text": [
      "Enter a string:  python\n",
      "p t h n "
     ]
    }
   ],
   "source": [
    "str1 = input(\"Enter a string:  \")\n",
    "\n",
    "for i in str1:\n",
    "    if ord(i) % 2 == 0:\n",
    "        print(i, end = ' ')"
   ]
  },
  {
   "cell_type": "code",
   "execution_count": 78,
   "metadata": {},
   "outputs": [
    {
     "name": "stdout",
     "output_type": "stream",
     "text": [
      "Puvvula Ambika Sai\n",
      "P.Ambika Sai \n"
     ]
    }
   ],
   "source": [
    "name = input()\n",
    "a = name.split(\" \")\n",
    "b = \"\"\n",
    "for i in a[1:]:\n",
    "    b += (i+\" \")\n",
    "print(name[0]+\".\"+b)"
   ]
  },
  {
   "cell_type": "code",
   "execution_count": 79,
   "metadata": {},
   "outputs": [
    {
     "name": "stdout",
     "output_type": "stream",
     "text": [
      "Puvvula Ambika Sai\n",
      "P.Ambika Sai\n"
     ]
    }
   ],
   "source": [
    "# Another way\n",
    "name = input()\n",
    "name = name.partition(' ')\n",
    "print(name[0][0]+'.'+name[-1])"
   ]
  },
  {
   "cell_type": "code",
   "execution_count": 81,
   "metadata": {},
   "outputs": [
    {
     "name": "stdout",
     "output_type": "stream",
     "text": [
      "123 345 4566 7890\n",
      "13 is not divisible by 5\n",
      "60 is not divisible by 11\n"
     ]
    }
   ],
   "source": [
    "n = input()\n",
    "a,b,c = n.split(\" \"),\"\",\"\"\n",
    "for i in a:\n",
    "    if len(i) == 3:\n",
    "        b += i[0]\n",
    "    elif len(i) == 4:\n",
    "        c += i[-1]\n",
    "if b != \"\":\n",
    "    if int(b)%5 == 0:\n",
    "        print(b,\"is divisible by 5\")\n",
    "    else:\n",
    "        print(b,\"is not divisible by 5\")\n",
    "if c != \"\":\n",
    "    if int(c)%11 == 0:\n",
    "        print(c,\"is divisible by 11\")\n",
    "    else:\n",
    "        print(c,\"is not divisible by 11\")"
   ]
  },
  {
   "cell_type": "code",
   "execution_count": 82,
   "metadata": {},
   "outputs": [
    {
     "name": "stdout",
     "output_type": "stream",
     "text": [
      "Ambika sky baby apssdc\n",
      "sky baby apssdc "
     ]
    }
   ],
   "source": [
    "string = input()\n",
    "vowels = \"aeiouAEIOU\"\n",
    "words = string.split(\" \")\n",
    "for i in range(len(words)):\n",
    "    a = words[i]\n",
    "    if not(a[-1] in vowels):\n",
    "        print(a,end=\" \")"
   ]
  },
  {
   "cell_type": "code",
   "execution_count": 83,
   "metadata": {},
   "outputs": [
    {
     "name": "stdout",
     "output_type": "stream",
     "text": [
      "Enter a string:  ambika sky baby apssdc\n",
      "sky baby apssdc "
     ]
    }
   ],
   "source": [
    "def vowel(x):\n",
    "    if (x == 'a' or x == 'e' or x == 'i' or x == 'o' or x == 'u'\n",
    "        or x == 'A' or x == 'E' or x == 'I' or x == 'O' or x == 'U'): \n",
    "        return True\n",
    "    return False\n",
    "\n",
    "s2 = input(\"Enter a string:  \")\n",
    "lst = s2.split()\n",
    "for i in lst:\n",
    "    if not(vowel(i[-1])):\n",
    "        print(i, end = ' ')"
   ]
  },
  {
   "cell_type": "code",
   "execution_count": null,
   "metadata": {},
   "outputs": [],
   "source": []
  }
 ],
 "metadata": {
  "kernelspec": {
   "display_name": "Python 3",
   "language": "python",
   "name": "python3"
  },
  "language_info": {
   "codemirror_mode": {
    "name": "ipython",
    "version": 3
   },
   "file_extension": ".py",
   "mimetype": "text/x-python",
   "name": "python",
   "nbconvert_exporter": "python",
   "pygments_lexer": "ipython3",
   "version": "3.7.1"
  }
 },
 "nbformat": 4,
 "nbformat_minor": 2
}
