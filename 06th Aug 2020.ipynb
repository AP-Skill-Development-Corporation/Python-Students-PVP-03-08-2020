{
 "cells": [
  {
   "cell_type": "markdown",
   "metadata": {},
   "source": [
    "- while loop\n",
    "    - where we don't know the number of iteration in advance\n",
    "    - synatx:\n",
    "        - while condition:\n",
    "            statements\n",
    "    - statements in the while loop executed until the condition is satisfied\n",
    "    - pre tested loop"
   ]
  },
  {
   "cell_type": "code",
   "execution_count": 1,
   "metadata": {},
   "outputs": [
    {
     "name": "stdout",
     "output_type": "stream",
     "text": [
      "2\n",
      "3\n",
      "4\n"
     ]
    }
   ],
   "source": [
    "# basic example\n",
    "num = 2\n",
    "while num < 5:\n",
    "    print(num)\n",
    "    num = num + 1"
   ]
  },
  {
   "cell_type": "code",
   "execution_count": 2,
   "metadata": {},
   "outputs": [
    {
     "name": "stdout",
     "output_type": "stream",
     "text": [
      "1 2 3 4 5 6 7 8 9 "
     ]
    }
   ],
   "source": [
    "# print natural numbers using for\n",
    "for i in range(1,10):\n",
    "    print(i,end=\" \")"
   ]
  },
  {
   "cell_type": "code",
   "execution_count": 3,
   "metadata": {},
   "outputs": [
    {
     "name": "stdout",
     "output_type": "stream",
     "text": [
      "1 2 3 4 5 6 7 8 9 10 "
     ]
    }
   ],
   "source": [
    "# print natural numbers using while\n",
    "i = 1\n",
    "n = 10\n",
    "while i <= n:\n",
    "    print(i,end=\" \")\n",
    "    i = i + 1"
   ]
  },
  {
   "cell_type": "code",
   "execution_count": 3,
   "metadata": {},
   "outputs": [
    {
     "name": "stdout",
     "output_type": "stream",
     "text": [
      "number 2 is even\n",
      "number 3 is odd\n",
      "number 4 is even\n"
     ]
    }
   ],
   "source": [
    "# print even and odd\n",
    "number = 2\n",
    "while number < 5:\n",
    "    if number % 2 == 0:\n",
    "        print(\"number \"+str(number)+\" is even\")\n",
    "    else:\n",
    "        print(\"number \"+str(number)+\" is odd\")\n",
    "    number = number + 1"
   ]
  },
  {
   "cell_type": "markdown",
   "metadata": {},
   "source": [
    "- Jump Statements(Keywords in python)\n",
    "    - used to alter the flow of loop\n",
    "    - skip the part of loop\n",
    "    - terminate the loop\n",
    "    - Break\n",
    "    - Continue\n",
    "    - Pass"
   ]
  },
  {
   "cell_type": "markdown",
   "metadata": {},
   "source": [
    "- Break\n",
    "    - terminates the loop tatement and transfer the execution to the statement immediately following the loop\n",
    "    - used for both while and for loops\n",
    "    - if we use nested loops break statement stops the execution of innermost loop and "
   ]
  },
  {
   "cell_type": "code",
   "execution_count": 9,
   "metadata": {},
   "outputs": [
    {
     "name": "stdout",
     "output_type": "stream",
     "text": [
      "current char is  p\n",
      "current char is  y\n",
      "current char is  t\n"
     ]
    }
   ],
   "source": [
    "# basic example\n",
    "for char in 'python':\n",
    "    if char == 'h':\n",
    "        break\n",
    "    print('current char is ',char)"
   ]
  },
  {
   "cell_type": "code",
   "execution_count": 1,
   "metadata": {},
   "outputs": [
    {
     "name": "stdout",
     "output_type": "stream",
     "text": [
      "curent value:  10\n",
      "curent value:  9\n",
      "curent value:  8\n",
      "curent value:  7\n",
      "curent value:  6\n",
      "Good Bye...\n"
     ]
    }
   ],
   "source": [
    "# using while loop\n",
    "num = 10\n",
    "while num > 0:\n",
    "    print('curent value: ',num)\n",
    "    num = num - 1\n",
    "    if num == 5:\n",
    "        break\n",
    "print('Good Bye...')"
   ]
  },
  {
   "cell_type": "code",
   "execution_count": 2,
   "metadata": {},
   "outputs": [
    {
     "name": "stdout",
     "output_type": "stream",
     "text": [
      "['False', 'None', 'True', 'and', 'as', 'assert', 'async', 'await', 'break', 'class', 'continue', 'def', 'del', 'elif', 'else', 'except', 'finally', 'for', 'from', 'global', 'if', 'import', 'in', 'is', 'lambda', 'nonlocal', 'not', 'or', 'pass', 'raise', 'return', 'try', 'while', 'with', 'yield'] "
     ]
    }
   ],
   "source": [
    "import keyword\n",
    "print(keyword.kwlist,end=\" \")"
   ]
  },
  {
   "cell_type": "markdown",
   "metadata": {},
   "source": [
    "- Continue\n",
    "    - rejects all the remaining statements in the current iteration of the loop\n",
    "    - moves the control back to top of the loop\n",
    "    - for and while loops"
   ]
  },
  {
   "cell_type": "code",
   "execution_count": 3,
   "metadata": {},
   "outputs": [
    {
     "name": "stdout",
     "output_type": "stream",
     "text": [
      "current char is  p\n",
      "current char is  y\n",
      "current char is  t\n",
      "current char is  o\n",
      "current char is  n\n"
     ]
    }
   ],
   "source": [
    "# basic example\n",
    "for char in 'python':\n",
    "    if char == 'h':\n",
    "        continue\n",
    "    print('current char is ',char)"
   ]
  },
  {
   "cell_type": "code",
   "execution_count": 4,
   "metadata": {},
   "outputs": [
    {
     "name": "stdout",
     "output_type": "stream",
     "text": [
      "curent value:  9\n",
      "curent value:  8\n",
      "curent value:  7\n",
      "curent value:  6\n",
      "curent value:  4\n",
      "curent value:  3\n",
      "curent value:  2\n",
      "curent value:  1\n",
      "curent value:  0\n",
      "Good Bye...\n"
     ]
    }
   ],
   "source": [
    "# using while loop\n",
    "num = 10\n",
    "while num > 0:\n",
    "    num = num - 1\n",
    "    if num == 5:\n",
    "        continue\n",
    "    print('curent value: ',num)\n",
    "print('Good Bye...')"
   ]
  },
  {
   "cell_type": "markdown",
   "metadata": {},
   "source": [
    "- Pass statement\n",
    "    - performs null operation\n",
    "    - code will eventually go,but has not written yet\n",
    "    - difference b/w pass And Comment\n",
    "        - Interpreter ignores the comment completely but doesn't ignores the pass satement"
   ]
  },
  {
   "cell_type": "code",
   "execution_count": 5,
   "metadata": {},
   "outputs": [
    {
     "name": "stdout",
     "output_type": "stream",
     "text": [
      "current char is  p\n",
      "current char is  y\n",
      "current char is  t\n",
      "this is pass block\n",
      "current char is  h\n",
      "current char is  o\n",
      "current char is  n\n",
      "Good bye...\n"
     ]
    }
   ],
   "source": [
    "for char in 'python':\n",
    "    if char == 'h':\n",
    "        pass\n",
    "        print('this is pass block')\n",
    "    print('current char is ',char)\n",
    "print('Good bye...')"
   ]
  },
  {
   "cell_type": "code",
   "execution_count": 11,
   "metadata": {},
   "outputs": [
    {
     "name": "stdout",
     "output_type": "stream",
     "text": [
      "9\n"
     ]
    }
   ],
   "source": [
    "num = int(input())\n",
    "if num > 10:\n",
    "    print(num)\n",
    "else:\n",
    "    pass\n",
    "    #print(\"num is lessthan\")"
   ]
  },
  {
   "cell_type": "code",
   "execution_count": 12,
   "metadata": {},
   "outputs": [
    {
     "name": "stdout",
     "output_type": "stream",
     "text": [
      "Enter lower range: 1\n",
      "Enter upper range: 17\n",
      "2 is prime\n",
      "3 is prime\n",
      "5 is prime\n",
      "7 is prime\n",
      "11 is prime\n",
      "13 is prime\n",
      "17 is prime\n"
     ]
    }
   ],
   "source": [
    "# prime numbers with in range\n",
    "lower = int(input(\"Enter lower range: \"))\n",
    "upper = int(input(\"Enter upper range: \"))\n",
    "for num in range(lower,upper+1):\n",
    "    count = 0\n",
    "    for n in range(1,num+1):\n",
    "        if num % n == 0:\n",
    "            count += 1\n",
    "    if count == 2:\n",
    "        print(n,\"is prime\")\n",
    "    else:\n",
    "        pass"
   ]
  },
  {
   "cell_type": "code",
   "execution_count": 13,
   "metadata": {},
   "outputs": [
    {
     "name": "stdout",
     "output_type": "stream",
     "text": [
      "Enter lower range: 1\n",
      "Enter upper range: 17\n",
      "2\n",
      "3\n",
      "5\n",
      "7\n",
      "11\n",
      "13\n",
      "17\n"
     ]
    }
   ],
   "source": [
    "lower = int(input(\"Enter lower range: \"))\n",
    "upper = int(input(\"Enter upper range: \"))\n",
    "for n in range(lower,upper+1):\n",
    "    if n > 1:\n",
    "        for i in range(2,n):\n",
    "            if n % i == 0:\n",
    "                break\n",
    "        else:\n",
    "            print(n)"
   ]
  },
  {
   "cell_type": "code",
   "execution_count": 18,
   "metadata": {},
   "outputs": [
    {
     "name": "stdout",
     "output_type": "stream",
     "text": [
      "  1\n"
     ]
    }
   ],
   "source": [
    "num=1\n",
    "while num >20:\n",
    "    num=num+1\n",
    "    if num/num == 1:\n",
    "        break\n",
    "print(' ',num)"
   ]
  },
  {
   "cell_type": "markdown",
   "metadata": {},
   "source": [
    "- Tasks\n",
    "    - Leap year check\n",
    "    - Even or odd\n",
    "    - check number is multiple of 10\n",
    "    - check number is factor of 100\n",
    "    - calculate number of nanoseconds in a year (leap year)\n",
    "    - check a chr is alphabet,number or special char\n",
    "        - input - a -- alphabet\n",
    "                - 5 -- number\n",
    "                - @ -- Special char\n",
    "    - input number \n",
    "        - check if it is even or not\n",
    "            - if number is even lessthan 5 calculate square of that number\n",
    "                - greater than 5 calculate cube of that number\n",
    "            - print odd"
   ]
  },
  {
   "cell_type": "code",
   "execution_count": 21,
   "metadata": {},
   "outputs": [
    {
     "name": "stdout",
     "output_type": "stream",
     "text": [
      "Enter a year: 1000\n",
      "Not a leap year\n"
     ]
    }
   ],
   "source": [
    "# Leap year check\n",
    "year = int(input(\"Enter a year: \"))\n",
    "if year % 400 == 0 or (year % 100 != 0 and year % 4 == 0):\n",
    "    print(\"Leap year\")\n",
    "else:\n",
    "    print(\"Not a leap year\")"
   ]
  },
  {
   "cell_type": "code",
   "execution_count": 23,
   "metadata": {},
   "outputs": [
    {
     "name": "stdout",
     "output_type": "stream",
     "text": [
      "5\n",
      "Odd\n"
     ]
    }
   ],
   "source": [
    "# Even or Odd\n",
    "num = int(input())\n",
    "if num % 2 == 0:\n",
    "    print('Even')\n",
    "else:\n",
    "    print('Odd')"
   ]
  },
  {
   "cell_type": "code",
   "execution_count": 25,
   "metadata": {},
   "outputs": [
    {
     "name": "stdout",
     "output_type": "stream",
     "text": [
      "23\n",
      "Not a multiple\n"
     ]
    }
   ],
   "source": [
    "# check number is multiple of 10 \n",
    "n1 = int(input())\n",
    "if n1 % 10 == 0:\n",
    "    print('Multiple of 10')\n",
    "else:\n",
    "    print('Not a multiple')"
   ]
  },
  {
   "cell_type": "code",
   "execution_count": 28,
   "metadata": {},
   "outputs": [
    {
     "name": "stdout",
     "output_type": "stream",
     "text": [
      "20\n",
      "factor of 10\n"
     ]
    }
   ],
   "source": [
    "# check a number is factor of 100 \n",
    "n1 = int(input())\n",
    "if 100 % n1 == 0:\n",
    "    print('factor of 10')\n",
    "else:\n",
    "    print('Not a factor')"
   ]
  },
  {
   "cell_type": "code",
   "execution_count": 30,
   "metadata": {},
   "outputs": [
    {
     "name": "stdout",
     "output_type": "stream",
     "text": [
      "Enter a year: 1000\n",
      "31536000000000000\n"
     ]
    }
   ],
   "source": [
    "# calculate number of nano seconds\n",
    "# 1hr = 60 * 60\n",
    "# 24hrs = 24 * 60 * 60\n",
    "# year = days in year * 60 * 60 *24 * 10^9\n",
    "year = int(input(\"Enter a year: \"))\n",
    "if year % 400 == 0 or (year % 100 != 0 and year % 4 == 0):\n",
    "    print(366*24*60*60*(10**9))\n",
    "else:\n",
    "    print(365*24*60*60*(10**9))"
   ]
  },
  {
   "cell_type": "code",
   "execution_count": 31,
   "metadata": {},
   "outputs": [
    {
     "name": "stdout",
     "output_type": "stream",
     "text": [
      "Enter in range: 2\n",
      "Enter out range:5\n",
      "Enter how many multiples: 5\n",
      "2 * 1 = 2\n",
      "2 * 2 = 4\n",
      "2 * 3 = 6\n",
      "2 * 4 = 8\n",
      "2 * 5 = 10\n",
      " \n",
      "3 * 1 = 3\n",
      "3 * 2 = 6\n",
      "3 * 3 = 9\n",
      "3 * 4 = 12\n",
      "3 * 5 = 15\n",
      " \n",
      "4 * 1 = 4\n",
      "4 * 2 = 8\n",
      "4 * 3 = 12\n",
      "4 * 4 = 16\n",
      "4 * 5 = 20\n",
      " \n",
      "5 * 1 = 5\n",
      "5 * 2 = 10\n",
      "5 * 3 = 15\n",
      "5 * 4 = 20\n",
      "5 * 5 = 25\n",
      " \n"
     ]
    }
   ],
   "source": [
    "in_range = int(input(\"Enter in range: \"))\n",
    "out_range = int(input(\"Enter out range:\"))\n",
    "multiple = int(input(\"Enter how many multiples: \"))\n",
    "for i in range(in_range,out_range+1):\n",
    "    for j in range(1,multiple+1):\n",
    "        print(i,\"*\",j,\"=\",i*j)\n",
    "    print(\" \")"
   ]
  },
  {
   "cell_type": "code",
   "execution_count": 34,
   "metadata": {},
   "outputs": [
    {
     "name": "stdout",
     "output_type": "stream",
     "text": [
      "enter the character$\n",
      "it is special character\n"
     ]
    }
   ],
   "source": [
    "#check the char,alpha,spl char\n",
    "ch=input(\"enter the character\")\n",
    "if ((ch>='a' and ch<='z') or (ch>='A' and ch<='Z' )):\n",
    "    print(\"given ch is alphabet\")\n",
    "elif(ch>='0' and ch<='9'):\n",
    "    print(\"given ch is digit\")\n",
    "else:\n",
    "    print(\"it is special character\")"
   ]
  },
  {
   "cell_type": "code",
   "execution_count": 38,
   "metadata": {},
   "outputs": [
    {
     "name": "stdout",
     "output_type": "stream",
     "text": [
      "Enter a number: 8\n",
      "512\n"
     ]
    }
   ],
   "source": [
    "n = int(input(\"Enter a number: \"))\n",
    "if n % 2 == 0:\n",
    "    if n < 5:\n",
    "        print(n ** 2)\n",
    "    else: \n",
    "        print(n ** 3)\n",
    "else :\n",
    "    print(n)"
   ]
  },
  {
   "cell_type": "code",
   "execution_count": 40,
   "metadata": {},
   "outputs": [
    {
     "name": "stdout",
     "output_type": "stream",
     "text": [
      "enter'x'for exit\n",
      "enter a number:x\n",
      "doesn't exist\n"
     ]
    }
   ],
   "source": [
    "print(\"enter'x'for exit\")\n",
    "n=input(\"enter a number:\")\n",
    "if n=='x':\n",
    "    print(\"doesn't exist\")\n",
    "else:\n",
    "    num=int(n)\n",
    "    for i in range(1,num+1):\n",
    "        if num%i==0:\n",
    "            print(i)\n",
    "            i+=1"
   ]
  },
  {
   "cell_type": "code",
   "execution_count": 41,
   "metadata": {},
   "outputs": [
    {
     "name": "stdout",
     "output_type": "stream",
     "text": [
      "Enter a name: sbhjlbdjk\n"
     ]
    },
    {
     "data": {
      "text/plain": [
       "str"
      ]
     },
     "execution_count": 41,
     "metadata": {},
     "output_type": "execute_result"
    }
   ],
   "source": [
    "# type connversions\n",
    "name = input(\"Enter a name: \")\n",
    "type(name)"
   ]
  },
  {
   "cell_type": "code",
   "execution_count": 43,
   "metadata": {},
   "outputs": [
    {
     "name": "stdout",
     "output_type": "stream",
     "text": [
      "Enter number: 8\n",
      "<class 'str'>\n",
      "<class 'int'>\n"
     ]
    }
   ],
   "source": [
    "num = input(\"Enter number: \")\n",
    "print(type(num))\n",
    "number = int(num)\n",
    "print(type(number))"
   ]
  },
  {
   "cell_type": "code",
   "execution_count": 44,
   "metadata": {},
   "outputs": [
    {
     "name": "stdout",
     "output_type": "stream",
     "text": [
      "p\n",
      "y\n",
      "t\n",
      "h\n",
      "o\n",
      "n\n"
     ]
    }
   ],
   "source": [
    "name = 'python'\n",
    "for chr in name:\n",
    "    print(chr)"
   ]
  },
  {
   "cell_type": "code",
   "execution_count": null,
   "metadata": {},
   "outputs": [],
   "source": []
  }
 ],
 "metadata": {
  "kernelspec": {
   "display_name": "Python 3",
   "language": "python",
   "name": "python3"
  },
  "language_info": {
   "codemirror_mode": {
    "name": "ipython",
    "version": 3
   },
   "file_extension": ".py",
   "mimetype": "text/x-python",
   "name": "python",
   "nbconvert_exporter": "python",
   "pygments_lexer": "ipython3",
   "version": "3.7.1"
  }
 },
 "nbformat": 4,
 "nbformat_minor": 2
}
